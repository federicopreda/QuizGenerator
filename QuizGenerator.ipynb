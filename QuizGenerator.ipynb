{
 "cells": [
  {
   "cell_type": "markdown",
   "metadata": {},
   "source": [
    "# QuizGenerator\n",
    "\n",
    "Benvenuti al Generatore di Quiz dedicato al corso \"Aspetti Etici, Legali, Sociali ed Economici dell’Informatica\" del dipartimento di informatica dell'Università degli Studi di Milano. Questo strumento è stato progettato per consentirti di creare quiz personalizzati, mettendo in primo piano la tua esperienza di apprendimento. Con questo generatore, puoi:\n",
    "\n",
    "- **Personalizzare il Tuo Quiz**: Scegli il numero di domande che desideri affrontare e seleziona gli argomenti specifici su cui desideri testare la tua preparazione\n",
    "- **Visualizzare Risultati Dettagliati**: Alla fine del quiz, avrai accesso a risultati dettagliati. Non solo conoscerai il tuo punteggio complessivo, ma potrai anche esplorare i risultati in profondità attraverso grafici informativi. Questi grafici mostreranno la distribuzione delle domande per argomento e la percentuale di risposte corrette per ciascun argomento.\n",
    "\n",
    "- **Correzione Automatica**: Non preoccuparti della correzione. Questo generatore gestirà automaticamente la verifica delle tue risposte e ti fornirà una correzione accurata per ciascuna domanda.\n",
    "\n",
    "Disclaimer:<br/>\n",
    "- Le domande contenute in questo generatore sono state estratte da Ariel e proposte nel corso degli anni da altri studenti, con le relative soluzioni<br />\n",
    "- Questo generatore è concepito come uno strumento complementare, finalizzato a fornire supporto per l'esercizio con domande analoghe a quelle che verranno presentate in sede d'esame\n",
    "- Non sostituisce lo studio dei materiali del corso disponibili sul sito web ufficiale."
   ]
  },
  {
   "cell_type": "code",
   "execution_count": 1,
   "metadata": {},
   "outputs": [],
   "source": [
    "from dataclasses import dataclass\n",
    "import matplotlib.pyplot as plt\n",
    "import pandas as pd\n",
    "import numpy as np\n",
    "from IPython.display import display, Markdown, Latex, HTML"
   ]
  },
  {
   "cell_type": "code",
   "execution_count": 2,
   "metadata": {},
   "outputs": [],
   "source": [
    "def selection(message, options, header=None):\n",
    "    # Verifica se la lista delle opzioni è vuota e solleva un'eccezione se lo è\n",
    "    if not options:\n",
    "        raise ValueError(\"An empty options list is not valid!\")\n",
    "\n",
    "    # Stampa un'intestazione se è stata fornita\n",
    "    print()\n",
    "    if header:\n",
    "        print(header)\n",
    "        print(\"-------------------------------\")\n",
    "\n",
    "    # Stampa il messaggio principale\n",
    "    print(f\"{message}\\n\")\n",
    "\n",
    "    # Stampa le opzioni numerate\n",
    "    for i, opt in enumerate(options):\n",
    "        print(f\"\\t{i}: {opt}\")\n",
    "\n",
    "    # Inizializza la scelta a un valore non valido\n",
    "    choice = -1\n",
    "    while choice < 0 or choice >= len(options):\n",
    "        try:\n",
    "            # Ottieni la risposta dall'utente e convertila in un intero\n",
    "            choice = int(input(\"Risposta: \"))\n",
    "        except ValueError:\n",
    "            # Gestisci l'eccezione se l'input non è un numero intero\n",
    "            choice = -1\n",
    "\n",
    "    return choice"
   ]
  },
  {
   "cell_type": "code",
   "execution_count": 3,
   "metadata": {},
   "outputs": [],
   "source": [
    "from dataclasses import dataclass\n",
    "\n",
    "@dataclass\n",
    "class Question:\n",
    "    # Attributi della classe Question\n",
    "    qid: int\n",
    "    text: str\n",
    "    options: list\n",
    "    correct_index: int\n",
    "    percorso_formativo: str \n",
    "\n",
    "    def printq(self, choice=-1):\n",
    "        \"\"\"\n",
    "        Stampa la rappresentazione testuale della domanda.\n",
    "        :param choice: La scelta dell'utente (default: -1).\n",
    "        \"\"\"\n",
    "        print(self.reprq(choice))\n",
    "\n",
    "    def reprq(self, choice=-1) -> str:\n",
    "        \"\"\"\n",
    "        Restituisce una rappresentazione testuale della domanda.\n",
    "        :param choice: La scelta dell'utente (default: -1).\n",
    "        :return: Una stringa con la rappresentazione testuale.\n",
    "        \"\"\"\n",
    "        optresults = [\"\", \"\", \"\", \"\"]\n",
    "        if choice >= 0:\n",
    "            if choice == self.correct_index:\n",
    "                optresults[choice] = \"[CORRECT]\"\n",
    "            else:\n",
    "                optresults[choice] = \"[WRONG]\"\n",
    "                optresults[self.correct_index] = \"[CORRECT]\"\n",
    "\n",
    "        return f\"\"\"\n",
    "        <{self.qid}> Question: {self.text}\n",
    "        ------------------------------------------\n",
    "        \\t0 - {self.options[0]} {optresults[0]}\n",
    "        \\t1 - {self.options[1]} {optresults[1]}\n",
    "        \\t2 - {self.options[2]} {optresults[2]}\n",
    "        \\t3 - {self.options[3]} {optresults[3]}\\n\\n\n",
    "        \"\"\"\n",
    "\n",
    "    def html_repr(self, choice=-1):\n",
    "        \"\"\"\n",
    "        Restituisce una rappresentazione HTML della domanda.\n",
    "        :param choice: La scelta dell'utente (default: -1).\n",
    "        :return: Una stringa con la rappresentazione HTML.\n",
    "        \"\"\"\n",
    "        optresults = [\"\", \"\", \"\", \"\"]\n",
    "        if choice >= 0:\n",
    "            if choice == self.correct_index:\n",
    "                optresults[choice] = \"[CORRECT]\"\n",
    "            else:\n",
    "                optresults[choice] = \"[WRONG]\"\n",
    "                optresults[self.correct_index] = \"[CORRECT]\"\n",
    "\n",
    "        return f\"\"\"\n",
    "        <table>\n",
    "            <thead>\n",
    "                <tr>\n",
    "                    <th>{self.qid}</th>\n",
    "                    <th>{self.text}</th>\n",
    "                </tr>\n",
    "            </thead>\n",
    "            <tbody>\n",
    "            <tr>\n",
    "                <td>0</td>\n",
    "                <td>{self.options[0]}</td>\n",
    "                <td>{optresults[0]}</td>\n",
    "            </tr>\n",
    "            <tr>\n",
    "                <td>1</td>\n",
    "                <td>{self.options[1]}</td>\n",
    "                <td>{optresults[1]}</td>\n",
    "            </tr>\n",
    "            <tr>\n",
    "                <td>2</td>\n",
    "                <td>{self.options[2]}</td>\n",
    "                <td>{optresults[2]}</td>\n",
    "            </tr>\n",
    "            <tr>\n",
    "                <td>3</td>\n",
    "                <td>{self.options[3]}</td>\n",
    "                <td>{optresults[3]}</td>\n",
    "            </tr>\n",
    "            </tbody>\n",
    "        </table>\n",
    "        <caption>Argomento: {self.percorso_formativo}</caption>\n",
    "        <br /><br />\n",
    "        \"\"\"\n"
   ]
  },
  {
   "cell_type": "code",
   "execution_count": 4,
   "metadata": {},
   "outputs": [
    {
     "data": {
      "text/html": [
       "<div>\n",
       "<style scoped>\n",
       "    .dataframe tbody tr th:only-of-type {\n",
       "        vertical-align: middle;\n",
       "    }\n",
       "\n",
       "    .dataframe tbody tr th {\n",
       "        vertical-align: top;\n",
       "    }\n",
       "\n",
       "    .dataframe thead th {\n",
       "        text-align: right;\n",
       "    }\n",
       "</style>\n",
       "<table border=\"1\" class=\"dataframe\">\n",
       "  <thead>\n",
       "    <tr style=\"text-align: right;\">\n",
       "      <th></th>\n",
       "      <th>Id</th>\n",
       "      <th>Domanda</th>\n",
       "      <th>PercorsoFormativo</th>\n",
       "      <th>Origine</th>\n",
       "      <th>RispostaCorretta</th>\n",
       "      <th>Risposta0</th>\n",
       "      <th>Risposta1</th>\n",
       "      <th>Risposta2</th>\n",
       "      <th>Risposta3</th>\n",
       "    </tr>\n",
       "  </thead>\n",
       "  <tbody>\n",
       "    <tr>\n",
       "      <th>0</th>\n",
       "      <td>1</td>\n",
       "      <td>La società in accomandita semplice:</td>\n",
       "      <td>ECO</td>\n",
       "      <td>EXAM</td>\n",
       "      <td>Risposta0</td>\n",
       "      <td>È una società di persone con due tipi di soci:...</td>\n",
       "      <td>È una società di capitali con due tipi di soci...</td>\n",
       "      <td>È una società di persone con due tipi di soci:...</td>\n",
       "      <td>È una società di capitali con due tipi di soci...</td>\n",
       "    </tr>\n",
       "    <tr>\n",
       "      <th>1</th>\n",
       "      <td>2</td>\n",
       "      <td>Cos'è lo Stato Patrimoniale?</td>\n",
       "      <td>ECO</td>\n",
       "      <td>EXAM</td>\n",
       "      <td>Risposta0</td>\n",
       "      <td>Un prospetto che fotografa la situazione di ri...</td>\n",
       "      <td>Un prospetto che ricapitola l'andamento dei fl...</td>\n",
       "      <td>Un prospetto che serve a stabilire a chi compe...</td>\n",
       "      <td>Un prospetto che raccoglie e ordina i costi e ...</td>\n",
       "    </tr>\n",
       "    <tr>\n",
       "      <th>2</th>\n",
       "      <td>3</td>\n",
       "      <td>Il consorzio:</td>\n",
       "      <td>ECO</td>\n",
       "      <td>EXAM</td>\n",
       "      <td>Risposta0</td>\n",
       "      <td>È un accordo tra due o più imprenditori che is...</td>\n",
       "      <td>È un'organizzazione stabile, mediante la quale...</td>\n",
       "      <td>Promuove l'integrazione sociale attraverso la ...</td>\n",
       "      <td>Può essere \"di solidarietà sociale\" (gestisce ...</td>\n",
       "    </tr>\n",
       "    <tr>\n",
       "      <th>3</th>\n",
       "      <td>4</td>\n",
       "      <td>Cos'è il Conto Economico?</td>\n",
       "      <td>ECO</td>\n",
       "      <td>EXAM</td>\n",
       "      <td>Risposta0</td>\n",
       "      <td>Un prospetto che raccoglie e ordina i costi e ...</td>\n",
       "      <td>Un prospetto che serve a stabilire a chi compe...</td>\n",
       "      <td>Un prospetto che fotografa la situazione di ri...</td>\n",
       "      <td>Un prospetto che ricapitola l'andamento dei fl...</td>\n",
       "    </tr>\n",
       "    <tr>\n",
       "      <th>4</th>\n",
       "      <td>5</td>\n",
       "      <td>Cosa è un settore e come lo si individua?</td>\n",
       "      <td>ECO</td>\n",
       "      <td>EXAM</td>\n",
       "      <td>Risposta0</td>\n",
       "      <td>Una porzione di mercato individuata dalla omog...</td>\n",
       "      <td>Una porzione di mercato definita da una medesi...</td>\n",
       "      <td>Una porzione di mercato individuata da poche i...</td>\n",
       "      <td>Una porzione di mercato individuata dalla omog...</td>\n",
       "    </tr>\n",
       "  </tbody>\n",
       "</table>\n",
       "</div>"
      ],
      "text/plain": [
       "   Id                                    Domanda PercorsoFormativo Origine  \\\n",
       "0   1        La società in accomandita semplice:               ECO    EXAM   \n",
       "1   2               Cos'è lo Stato Patrimoniale?               ECO    EXAM   \n",
       "2   3                              Il consorzio:               ECO    EXAM   \n",
       "3   4                  Cos'è il Conto Economico?               ECO    EXAM   \n",
       "4   5  Cosa è un settore e come lo si individua?               ECO    EXAM   \n",
       "\n",
       "  RispostaCorretta                                          Risposta0  \\\n",
       "0        Risposta0  È una società di persone con due tipi di soci:...   \n",
       "1        Risposta0  Un prospetto che fotografa la situazione di ri...   \n",
       "2        Risposta0  È un accordo tra due o più imprenditori che is...   \n",
       "3        Risposta0  Un prospetto che raccoglie e ordina i costi e ...   \n",
       "4        Risposta0  Una porzione di mercato individuata dalla omog...   \n",
       "\n",
       "                                           Risposta1  \\\n",
       "0  È una società di capitali con due tipi di soci...   \n",
       "1  Un prospetto che ricapitola l'andamento dei fl...   \n",
       "2  È un'organizzazione stabile, mediante la quale...   \n",
       "3  Un prospetto che serve a stabilire a chi compe...   \n",
       "4  Una porzione di mercato definita da una medesi...   \n",
       "\n",
       "                                           Risposta2  \\\n",
       "0  È una società di persone con due tipi di soci:...   \n",
       "1  Un prospetto che serve a stabilire a chi compe...   \n",
       "2  Promuove l'integrazione sociale attraverso la ...   \n",
       "3  Un prospetto che fotografa la situazione di ri...   \n",
       "4  Una porzione di mercato individuata da poche i...   \n",
       "\n",
       "                                           Risposta3  \n",
       "0  È una società di capitali con due tipi di soci...  \n",
       "1  Un prospetto che raccoglie e ordina i costi e ...  \n",
       "2  Può essere \"di solidarietà sociale\" (gestisce ...  \n",
       "3  Un prospetto che ricapitola l'andamento dei fl...  \n",
       "4  Una porzione di mercato individuata dalla omog...  "
      ]
     },
     "execution_count": 4,
     "metadata": {},
     "output_type": "execute_result"
    }
   ],
   "source": [
    "questions = pd.read_csv('./domandeAspetti.tsv', sep='\\t', header=0)\n",
    "questions.head()"
   ]
  },
  {
   "cell_type": "markdown",
   "metadata": {},
   "source": [
    "## Personalizzazione del quiz\n",
    "#### Legenda degli argomenti:\n",
    "  - ECO - Economici\n",
    "  - LEG - Legali\n",
    "  - ETH - Etici\n",
    "  - SOC - SocialiPersonalizzazione del quiz"
   ]
  },
  {
   "cell_type": "code",
   "execution_count": 5,
   "metadata": {},
   "outputs": [
    {
     "name": "stdin",
     "output_type": "stream",
     "text": [
      "Inserisci quante domande vuoi nel quiz 1-296 [16]:  \n",
      "Vuoi domande su tutti gli argomenti? [si]/no:  \n"
     ]
    }
   ],
   "source": [
    "# Imposta il numero di domande da generare\n",
    "tmp = input(f\"Inserisci quante domande vuoi nel quiz 1-{len(questions)} [16]: \")\n",
    "QUESTIONS_NUMBER = 16\n",
    "if tmp.isdigit() and int(tmp) <= len(questions) and int(tmp) > 1:\n",
    "    QUESTIONS_NUMBER = int(tmp)\n",
    "\n",
    "selected_paths = [\"ECO\", \"SOC\", \"ETH\", \"LEG\"]\n",
    "valid_paths = {\"ECO\", \"SOC\", \"ETH\", \"LEG\"} \n",
    "tmp = input(\"Vuoi domande su tutti gli argomenti? [si]/no: \")\n",
    "if tmp.upper() == \"NO\":\n",
    "    # Richiedi all'utente di inserire i percorsi formativi desiderati separati da virgola\n",
    "    selected_paths_input = input(\"Inserisci i percorsi formativi desiderati separati da virgola (es. ECO, SOC): \")\n",
    "    \n",
    "    # Suddividi l'input dell'utente in una lista di percorsi formativi\n",
    "    selected_paths = list(set(path.strip().upper() for path in selected_paths_input.split(',')))\n",
    "    if len(selected_paths) < 1 or len(selected_paths) > 4 or not all(path in valid_paths for path in selected_paths):\n",
    "        selected_paths = [\"ECO\", \"SOC\", \"ETH\", \"LEG\"]"
   ]
  },
  {
   "cell_type": "code",
   "execution_count": 6,
   "metadata": {},
   "outputs": [],
   "source": [
    "# Estrai indici casuali dal DataFrame \"questions\" per selezionare domande solo dai percorsi formativi desiderati\n",
    "index_generated_questions = np.random.choice(\n",
    "    questions[questions['PercorsoFormativo'].isin(selected_paths)].index,\n",
    "    QUESTIONS_NUMBER,\n",
    "    replace=False\n",
    ")\n",
    "# Genera un test casuale per ogni domanda con permutazioni delle risposte\n",
    "generated_test = [\n",
    "    np.random.permutation([\"Risposta0\",\"Risposta1\",\"Risposta2\",\"Risposta3\"]) \n",
    "    for i in range(QUESTIONS_NUMBER)\n",
    "]\n",
    "\n",
    "# Estrai la colonna delle domande dal DataFrame \"questions\"\n",
    "dom = questions['Domanda']\n",
    "\n",
    "# Inizializza una lista vuota per memorizzare i dati delle domande generate\n",
    "questionsData = []\n",
    "\n",
    "# Mappatura tra indici risposte corrette e stringa\n",
    "index_correct_answer = {'Risposta0': 0, 'Risposta1':1, 'Risposta2': 2, 'Risposta3':3}\n",
    "\n",
    "# Ciclo attraverso il numero di domande da generare\n",
    "for i in range(QUESTIONS_NUMBER):\n",
    "    \n",
    "    # Estrai un indice casuale per una domanda\n",
    "    randomQ = index_generated_questions[i]\n",
    "    \n",
    "    # Estrai la risposta corretta dalla colonna \"RispostaCorretta\" del DataFrame \"questions\"\n",
    "    risposta_corretta = questions.loc[randomQ, 'RispostaCorretta']\n",
    "\n",
    "    # Estrai il valore \"PercorsoFormativo\" dalla colonna \"PercorsoFormativo\" del DataFrame \"questions\"\n",
    "    percorso_formativo = questions.loc[randomQ, 'PercorsoFormativo']\n",
    "\n",
    "    # Estrai e mescola le risposte possibili\n",
    "    risposte_possibili = np.random.permutation([\n",
    "        questions.loc[randomQ, 'Risposta0'],\n",
    "        questions.loc[randomQ, 'Risposta1'],\n",
    "        questions.loc[randomQ, 'Risposta2'],\n",
    "        questions.loc[randomQ, 'Risposta3']\n",
    "    ])\n",
    "    \n",
    "    # Crea un oggetto \"Question\" contenente i dati della domanda\n",
    "    questionsData.append(\n",
    "        Question(\n",
    "            i,  # ID univoco della domanda\n",
    "            dom[randomQ],  # Testo della domanda estratto dal DataFrame\n",
    "            risposte_possibili.tolist(),\n",
    "            np.where(risposte_possibili[:] == questions.loc[randomQ, questions.loc[randomQ, 'RispostaCorretta']])[0][0],  # Indice della risposta corretta\n",
    "            percorso_formativo  # Aggiungi l'attributo \"percorsoFormativo\" al Question object\n",
    "        )\n",
    "    )\n"
   ]
  },
  {
   "cell_type": "code",
   "execution_count": 7,
   "metadata": {},
   "outputs": [
    {
     "data": {
      "text/markdown": [
       "<h1>Quiz - 16 domande</h1>Argomenti:- ECO\n",
       "- SOC\n",
       "- ETH\n",
       "- LEG"
      ],
      "text/plain": [
       "<IPython.core.display.Markdown object>"
      ]
     },
     "metadata": {},
     "output_type": "display_data"
    }
   ],
   "source": [
    "# Mostra l'elenco dei percorsi formativi selezionati come una lista non ordinata\n",
    "formatted_paths = \"\\n\".join([f\"- {path}\" for path in selected_paths])\n",
    "display(Markdown(f\"<h1>Quiz - {QUESTIONS_NUMBER} domand{'e' if QUESTIONS_NUMBER > 1 else 'a'}</h1>Argomenti:{formatted_paths}\"))\n"
   ]
  },
  {
   "cell_type": "code",
   "execution_count": 8,
   "metadata": {},
   "outputs": [
    {
     "name": "stdout",
     "output_type": "stream",
     "text": [
      "\n",
      "Domanda N°0\n",
      "-------------------------------\n",
      "come si valuta il ROI di un investimento?\n",
      "\n",
      "\t0: MOL / IRR\n",
      "\t1: MOL / NVP\n",
      "\t2: ValoreAttuale / investimento iniziale\n",
      "\t3: MOL / investimento iniziale\n"
     ]
    },
    {
     "name": "stdin",
     "output_type": "stream",
     "text": [
      "Risposta:  2\n"
     ]
    },
    {
     "name": "stdout",
     "output_type": "stream",
     "text": [
      "\n",
      "Domanda N°1\n",
      "-------------------------------\n",
      "L'analisi dei costi è utile:\n",
      "\n",
      "\t0: Per determinare quanto i costi indiretti pesino sul costo medio variabile\n",
      "\t1: Solo quando l'azienda produce molti prodotti diversi\n",
      "\t2: Per stabilire il numero minimo di pezzi da vendere per un prodotto\n",
      "\t3: Per determinare l'esatto costo di produzione, e quindi definire il prezzo di vendita di un prodotto\n"
     ]
    },
    {
     "name": "stdin",
     "output_type": "stream",
     "text": [
      "Risposta:  3\n"
     ]
    },
    {
     "name": "stdout",
     "output_type": "stream",
     "text": [
      "\n",
      "Domanda N°2\n",
      "-------------------------------\n",
      "Perché Deborah Johnson consiglia di rifiutare il \"determinismo tecnologico\"?\n",
      "\n",
      "\t0: Perché fattori sociali (scelte politiche, Investimenti, etc.) indirizzano gli scienziati e I tecnologi in certe direzioni ed influenzano la progettazione dei sistemi\n",
      "\t1: Perché la tecnologia non rispetta le persone\n",
      "\t2: Perché la tecnologia si evolve solo perché abbiamo dei colpi di genio\n",
      "\t3: Perché la tecnologia è indipendente dalla società\n"
     ]
    },
    {
     "name": "stdin",
     "output_type": "stream",
     "text": [
      "Risposta:  0\n"
     ]
    },
    {
     "name": "stdout",
     "output_type": "stream",
     "text": [
      "\n",
      "Domanda N°3\n",
      "-------------------------------\n",
      "Il tasso di attualizzazione (o tasso di sconto o di interesse):\n",
      "\n",
      "\t0: È il tasso con cui vanno confrontati gli investimenti per verificarne la redditività\n",
      "\t1: Sposta tutti gli investimenti a un dato momento futuro\n",
      "\t2: È il tasso attualmente praticato sul mercato per gli investimenti a rischio zero\n",
      "\t3: Serve a riportare il valore degli investimenti al momento iniziale\n"
     ]
    },
    {
     "name": "stdin",
     "output_type": "stream",
     "text": [
      "Risposta:  3\n"
     ]
    },
    {
     "name": "stdout",
     "output_type": "stream",
     "text": [
      "\n",
      "Domanda N°4\n",
      "-------------------------------\n",
      "Cosa si intende per Hardware Libero?\n",
      "\n",
      "\t0: L'hardware liberamente acquistabile\n",
      "\t1: L'hardware basato su dispositivi elettronici e computer progettati con la stessa filosofia del software libero: tutte le informazioni riguardanti il progetto hardware, le specifiche, gll schemi necessari, etc. sono divulgati e liberamente accessibili\n",
      "\t2: L'hardware prodotto nelle carceri\n",
      "\t3: L'hardware gratuito\n"
     ]
    },
    {
     "name": "stdin",
     "output_type": "stream",
     "text": [
      "Risposta:  1\n"
     ]
    },
    {
     "name": "stdout",
     "output_type": "stream",
     "text": [
      "\n",
      "Domanda N°5\n",
      "-------------------------------\n",
      "Le Creative Commons sono…\n",
      "\n",
      "\t0: I beni a disposizione di tutti\n",
      "\t1: Le opere di pubblico dominio\n",
      "\t2: Licenze d'uso riservate agli artisti\n",
      "\t3: Licenze d'uso molto simili alle licenze libere\n"
     ]
    },
    {
     "name": "stdin",
     "output_type": "stream",
     "text": [
      "Risposta:  2\n"
     ]
    },
    {
     "name": "stdout",
     "output_type": "stream",
     "text": [
      "\n",
      "Domanda N°6\n",
      "-------------------------------\n",
      "Come si caratterizza un monopolio?\n",
      "\n",
      "\t0: Le imprese subiscono il prezzo imposto dal mercato\n",
      "\t1: È una forma di mercato in cui la legge regolamenta l’offerta di prodotti e servizi\n",
      "\t2: È una forma di mercato in cui la concorrenza è limitata dall’esistenza di un Cartello\n",
      "\t3: È una forma di mercato in cui una sola impresa definisce l’intera offerta\n"
     ]
    },
    {
     "name": "stdin",
     "output_type": "stream",
     "text": [
      "Risposta:  3\n"
     ]
    },
    {
     "name": "stdout",
     "output_type": "stream",
     "text": [
      "\n",
      "Domanda N°7\n",
      "-------------------------------\n",
      "Selezionare l'opzione corretta. L'artigiano:\n",
      "\n",
      "\t0: minimizza i costi grazie ad un'attenta divisione dei lavori\n",
      "\t1: produce manufatti unici grazie all'aiuto di altre aziende\n",
      "\t2: produce manufatti unici sempre usando la propria materia prima\n",
      "\t3: produce manufatti unici occupandosi personalmente di ogni fase della produzione\n"
     ]
    },
    {
     "name": "stdin",
     "output_type": "stream",
     "text": [
      "Risposta:  3\n"
     ]
    },
    {
     "name": "stdout",
     "output_type": "stream",
     "text": [
      "\n",
      "Domanda N°8\n",
      "-------------------------------\n",
      "La mancata adozione di una misura di sicurezza comporta:\n",
      "\n",
      "\t0: Una responsabilità amministrativa\n",
      "\t1: Una responsabilità civile\n",
      "\t2: Una responsabilità civile, solo se si prova di aver subito un danno effettivo\n",
      "\t3: Una responsabilità\n"
     ]
    },
    {
     "name": "stdin",
     "output_type": "stream",
     "text": [
      "Risposta:  2\n"
     ]
    },
    {
     "name": "stdout",
     "output_type": "stream",
     "text": [
      "\n",
      "Domanda N°9\n",
      "-------------------------------\n",
      "Il \"digital divide…\n",
      "\n",
      "\t0: È il salto generazionale fra i nativi digitali e chi è nato prima degli anni 90\n",
      "\t1: È la mancata standardizzazione dei sistemi operativi\n",
      "\t2: È il divario fra chi ha accesso alle tecnologie dell'informazione e chi non l'ha\n",
      "\t3: È il divario fra chi ha accesso a Internet e chi non l'ha\n"
     ]
    },
    {
     "name": "stdin",
     "output_type": "stream",
     "text": [
      "Risposta:  2\n"
     ]
    },
    {
     "name": "stdout",
     "output_type": "stream",
     "text": [
      "\n",
      "Domanda N°10\n",
      "-------------------------------\n",
      "La SPA è:\n",
      "\n",
      "\t0: è un'organizzazione con personalità giuridica, riconosciuta attraverso un esame nel quale si valuta, tra l'altro, la sufficienza della dotazione patrimoniale. I soci rispondono dei debiti sociali limitatamente al capitale investito.\n",
      "\t1: è una società di capitali con capitale minimo di 10.000€. Per le obbligazioni sociali risponde solo la società con il suo patrimonio.\n",
      "\t2: è una società a capitale variabile e con scopo mutualistico. Il capitale sociale, può essere costituito anche da azioni. Si avvalgono prevalentemente delle prestazioni lavorative dei soci e degli apporti di beni e servizi da parte degli stessi. \n",
      "\t3: è una società di capitali con capitale minimo di 120.000€. La partecipazione sociale è rappresentata da azioni.\n"
     ]
    },
    {
     "name": "stdin",
     "output_type": "stream",
     "text": [
      "Risposta:  3\n"
     ]
    },
    {
     "name": "stdout",
     "output_type": "stream",
     "text": [
      "\n",
      "Domanda N°11\n",
      "-------------------------------\n",
      "Cosa dice il teorema di Bohm-Jacopini?\n",
      "\n",
      "\t0: ogni codice può essere scritto solo con costrutti if.\n",
      "\t1: ogni funzione hardware può essere simulata con del software.\n",
      "\t2: ogni funzione computabile, può essere implementata solo con 3 strutture: la sequenza, la scelta e il ciclo.\n",
      "\t3: ogni funzione computabile può essere scritta con: cicli, if, interrupt e le operazioni di somma e differenza.\n"
     ]
    },
    {
     "name": "stdin",
     "output_type": "stream",
     "text": [
      "Risposta:  2\n"
     ]
    },
    {
     "name": "stdout",
     "output_type": "stream",
     "text": [
      "\n",
      "Domanda N°12\n",
      "-------------------------------\n",
      "I diritti alla cittadinanza digitale...\n",
      "\n",
      "\t0: Sono limitati solo ai cittadini di determinato rango sociale\n",
      "\t1: Non hanno alcuna relazione con la protezione dei dati personali\n",
      "\t2: sono articolati in tutela e opportunità\n",
      "\t3: Si applicano solo ai minori di età\n"
     ]
    },
    {
     "name": "stdin",
     "output_type": "stream",
     "text": [
      "Risposta:  2\n"
     ]
    },
    {
     "name": "stdout",
     "output_type": "stream",
     "text": [
      "\n",
      "Domanda N°13\n",
      "-------------------------------\n",
      "Qual è il modello di mercato più diffuso?\n",
      "\n",
      "\t0: Concorrenza perfetta\n",
      "\t1: nan\n",
      "\t2: Oligopolio.\n",
      "\t3: Monopolio.\n"
     ]
    },
    {
     "name": "stdin",
     "output_type": "stream",
     "text": [
      "Risposta:  0\n"
     ]
    },
    {
     "name": "stdout",
     "output_type": "stream",
     "text": [
      "\n",
      "Domanda N°14\n",
      "-------------------------------\n",
      "Chi detiene il diritto di imporre una licenza sul software?\n",
      "\n",
      "\t0: Gli utenti finali del software.\n",
      "\t1:  I produttori e sviluppatori del software.\n",
      "\t2: L'organizzazione per la creazione di servizi Caveat.\n",
      "\t3: L'autore del software e detentore del copyright\n"
     ]
    },
    {
     "name": "stdin",
     "output_type": "stream",
     "text": [
      "Risposta:  3\n"
     ]
    },
    {
     "name": "stdout",
     "output_type": "stream",
     "text": [
      "\n",
      "Domanda N°15\n",
      "-------------------------------\n",
      "Quali sono le due categorie di scelte di destinazione delle risorse nel sistema economico?\n",
      "\n",
      "\t0: nan\n",
      "\t1: Scelte di consumo e scelte di produzione.\n",
      "\t2: Scelte di consumo e scelte di risparmio.\n",
      "\t3: Scelte di produzione e scelte di innovazione.\n"
     ]
    },
    {
     "name": "stdin",
     "output_type": "stream",
     "text": [
      "Risposta:  1\n"
     ]
    }
   ],
   "source": [
    "answers = []\n",
    "for question in questionsData:\n",
    "    answer = selection(question.text, question.options, header=\"Domanda N°{}\".format(question.qid))\n",
    "    answers.append(answer)"
   ]
  },
  {
   "cell_type": "markdown",
   "metadata": {},
   "source": [
    "# Risultati\n",
    "I risultati sono proposti come:\n",
    "- Percentuale risposte esatte sul totale\n",
    "- Distribuzione domande per argomento\n",
    "- Percenutale risposte esatte per argomento\n",
    "- Correzione delle domande"
   ]
  },
  {
   "cell_type": "code",
   "execution_count": 9,
   "metadata": {},
   "outputs": [
    {
     "data": {
      "text/markdown": [
       "<h3>Promosso!</h3><p>Risposte corrette: 87.5%  </p>"
      ],
      "text/plain": [
       "<IPython.core.display.Markdown object>"
      ]
     },
     "metadata": {},
     "output_type": "display_data"
    }
   ],
   "source": [
    "# Inizializza i conteggi per le risposte corrette per ciascun percorso formativo\n",
    "correct_count_by_percorso_formativo = {\"ECO\": 0, \"LEG\": 0, \"ETH\": 0, \"SOC\": 0, \"MISC\": 0}\n",
    "\n",
    "# Inizializza i conteggi totali per ciascun percorso formativo\n",
    "count_by_percorso_formativo = {\"ECO\": 0, \"LEG\": 0, \"ETH\": 0, \"SOC\": 0, \"MISC\": 0}\n",
    "\n",
    "# Conteggio totale delle risposte corrette\n",
    "total_correct_count = 0\n",
    "\n",
    "# Ciclo attraverso le domande generate\n",
    "for i in range(QUESTIONS_NUMBER):\n",
    "    \n",
    "    # Verifica se la risposta data è corretta\n",
    "    is_correct = questionsData[i].correct_index == answers[i]\n",
    "\n",
    "    # Aggiorna il conteggio totale delle risposte corrette\n",
    "    total_correct_count += is_correct\n",
    "\n",
    "    # Aggiorna il conteggio delle risposte corrette per il percorso formativo corrispondente\n",
    "    correct_count_by_percorso_formativo[questionsData[i].percorso_formativo] += is_correct\n",
    "\n",
    "    # Aggiorna il conteggio totale delle domande per il percorso formativo corrispondente\n",
    "    count_by_percorso_formativo[questionsData[i].percorso_formativo] += 1\n",
    "\n",
    "# Calcola la percentuale di risposte corrette\n",
    "correct_perc = (total_correct_count / len(answers)) * 100\n",
    "\n",
    "# Mostra la percentuale di risposte corrette\n",
    "display(Markdown(f'<h3>{\"Promosso!\" if correct_perc >= (9/16)*100 else \"Bocciato!\"}</h3><p>Risposte corrette: {round(correct_perc, 2)}%  </p>'))\n"
   ]
  },
  {
   "cell_type": "markdown",
   "metadata": {},
   "source": [
    "## Grafici\n",
    "#### Legenda degli argomenti:\n",
    "  - ECO - Economici\n",
    "  - LEG - Legali\n",
    "  - ETH - Etici\n",
    "  - SOC - Sociali"
   ]
  },
  {
   "cell_type": "code",
   "execution_count": 10,
   "metadata": {},
   "outputs": [
    {
     "data": {
      "image/png": "[encoded data removed]",
      "text/plain": [
       "<Figure size 640x480 with 1 Axes>"
      ]
     },
     "metadata": {},
     "output_type": "display_data"
    },
    {
     "data": {
      "image/png": "[encoded data removed]",
      "text/plain": [
       "<Figure size 800x400 with 1 Axes>"
      ]
     },
     "metadata": {},
     "output_type": "display_data"
    }
   ],
   "source": [
    "# Grafico a torta per la distribuzione delle domande\n",
    "categorie = [percorso_formativo for percorso_formativo, count in count_by_percorso_formativo.items() if count > 0]\n",
    "valori = [count for count in count_by_percorso_formativo.values() if count > 0]\n",
    "\n",
    "plt.pie(valori, labels=categorie, autopct='%1.1f%%', startangle=140)\n",
    "plt.axis('equal')  # Imposta il grafico a torta in modo circolare\n",
    "plt.title('Distribuzione delle domande')\n",
    "\n",
    "# Grafico a barre orizzontali per le percentuali di risposte corrette per argomento\n",
    "percentuali = [(correct_count_by_percorso_formativo[key] / count_by_percorso_formativo[key]) * 100 for key in categorie]\n",
    "\n",
    "plt.figure(figsize=(8, 4))  # Imposta la dimensione del grafico a barre\n",
    "plt.barh(categorie, percentuali, color='green')\n",
    "plt.xlim(0, 100)  # Imposta i limiti dell'asse x\n",
    "plt.xlabel('Percentuali risposte corrette per argomento')\n",
    "\n",
    "# Aggiungi le percentuali come etichette sulle barre\n",
    "for i, percentuale in enumerate(percentuali):\n",
    "    plt.text(percentuale, i, f'{int(percentuale)}%', va='center')\n",
    "\n",
    "# Mostra il grafico a barre orizzontali\n",
    "plt.show()"
   ]
  },
  {
   "cell_type": "markdown",
   "metadata": {},
   "source": [
    "## Correzione"
   ]
  },
  {
   "cell_type": "code",
   "execution_count": 11,
   "metadata": {},
   "outputs": [
    {
     "data": {
      "text/html": [
       "\n",
       "        <table>\n",
       "            <thead>\n",
       "                <tr>\n",
       "                    <th>0</th>\n",
       "                    <th>come si valuta il ROI di un investimento?</th>\n",
       "                </tr>\n",
       "            </thead>\n",
       "            <tbody>\n",
       "            <tr>\n",
       "                <td>0</td>\n",
       "                <td>MOL / IRR</td>\n",
       "                <td></td>\n",
       "            </tr>\n",
       "            <tr>\n",
       "                <td>1</td>\n",
       "                <td>MOL / NVP</td>\n",
       "                <td></td>\n",
       "            </tr>\n",
       "            <tr>\n",
       "                <td>2</td>\n",
       "                <td>ValoreAttuale / investimento iniziale</td>\n",
       "                <td>[WRONG]</td>\n",
       "            </tr>\n",
       "            <tr>\n",
       "                <td>3</td>\n",
       "                <td>MOL / investimento iniziale</td>\n",
       "                <td>[CORRECT]</td>\n",
       "            </tr>\n",
       "            </tbody>\n",
       "        </table>\n",
       "        <caption>Argomento: ECO</caption>\n",
       "        <br /><br />\n",
       "        "
      ],
      "text/plain": [
       "<IPython.core.display.HTML object>"
      ]
     },
     "metadata": {},
     "output_type": "display_data"
    },
    {
     "data": {
      "text/html": [
       "\n",
       "        <table>\n",
       "            <thead>\n",
       "                <tr>\n",
       "                    <th>1</th>\n",
       "                    <th>L'analisi dei costi è utile:</th>\n",
       "                </tr>\n",
       "            </thead>\n",
       "            <tbody>\n",
       "            <tr>\n",
       "                <td>0</td>\n",
       "                <td>Per determinare quanto i costi indiretti pesino sul costo medio variabile</td>\n",
       "                <td></td>\n",
       "            </tr>\n",
       "            <tr>\n",
       "                <td>1</td>\n",
       "                <td>Solo quando l'azienda produce molti prodotti diversi</td>\n",
       "                <td></td>\n",
       "            </tr>\n",
       "            <tr>\n",
       "                <td>2</td>\n",
       "                <td>Per stabilire il numero minimo di pezzi da vendere per un prodotto</td>\n",
       "                <td></td>\n",
       "            </tr>\n",
       "            <tr>\n",
       "                <td>3</td>\n",
       "                <td>Per determinare l'esatto costo di produzione, e quindi definire il prezzo di vendita di un prodotto</td>\n",
       "                <td>[CORRECT]</td>\n",
       "            </tr>\n",
       "            </tbody>\n",
       "        </table>\n",
       "        <caption>Argomento: ECO</caption>\n",
       "        <br /><br />\n",
       "        "
      ],
      "text/plain": [
       "<IPython.core.display.HTML object>"
      ]
     },
     "metadata": {},
     "output_type": "display_data"
    },
    {
     "data": {
      "text/html": [
       "\n",
       "        <table>\n",
       "            <thead>\n",
       "                <tr>\n",
       "                    <th>2</th>\n",
       "                    <th>Perché Deborah Johnson consiglia di rifiutare il \"determinismo tecnologico\"?</th>\n",
       "                </tr>\n",
       "            </thead>\n",
       "            <tbody>\n",
       "            <tr>\n",
       "                <td>0</td>\n",
       "                <td>Perché fattori sociali (scelte politiche, Investimenti, etc.) indirizzano gli scienziati e I tecnologi in certe direzioni ed influenzano la progettazione dei sistemi</td>\n",
       "                <td>[CORRECT]</td>\n",
       "            </tr>\n",
       "            <tr>\n",
       "                <td>1</td>\n",
       "                <td>Perché la tecnologia non rispetta le persone</td>\n",
       "                <td></td>\n",
       "            </tr>\n",
       "            <tr>\n",
       "                <td>2</td>\n",
       "                <td>Perché la tecnologia si evolve solo perché abbiamo dei colpi di genio</td>\n",
       "                <td></td>\n",
       "            </tr>\n",
       "            <tr>\n",
       "                <td>3</td>\n",
       "                <td>Perché la tecnologia è indipendente dalla società</td>\n",
       "                <td></td>\n",
       "            </tr>\n",
       "            </tbody>\n",
       "        </table>\n",
       "        <caption>Argomento: ETH</caption>\n",
       "        <br /><br />\n",
       "        "
      ],
      "text/plain": [
       "<IPython.core.display.HTML object>"
      ]
     },
     "metadata": {},
     "output_type": "display_data"
    },
    {
     "data": {
      "text/html": [
       "\n",
       "        <table>\n",
       "            <thead>\n",
       "                <tr>\n",
       "                    <th>3</th>\n",
       "                    <th>Il tasso di attualizzazione (o tasso di sconto o di interesse):</th>\n",
       "                </tr>\n",
       "            </thead>\n",
       "            <tbody>\n",
       "            <tr>\n",
       "                <td>0</td>\n",
       "                <td>È il tasso con cui vanno confrontati gli investimenti per verificarne la redditività</td>\n",
       "                <td></td>\n",
       "            </tr>\n",
       "            <tr>\n",
       "                <td>1</td>\n",
       "                <td>Sposta tutti gli investimenti a un dato momento futuro</td>\n",
       "                <td></td>\n",
       "            </tr>\n",
       "            <tr>\n",
       "                <td>2</td>\n",
       "                <td>È il tasso attualmente praticato sul mercato per gli investimenti a rischio zero</td>\n",
       "                <td></td>\n",
       "            </tr>\n",
       "            <tr>\n",
       "                <td>3</td>\n",
       "                <td>Serve a riportare il valore degli investimenti al momento iniziale</td>\n",
       "                <td>[CORRECT]</td>\n",
       "            </tr>\n",
       "            </tbody>\n",
       "        </table>\n",
       "        <caption>Argomento: ECO</caption>\n",
       "        <br /><br />\n",
       "        "
      ],
      "text/plain": [
       "<IPython.core.display.HTML object>"
      ]
     },
     "metadata": {},
     "output_type": "display_data"
    },
    {
     "data": {
      "text/html": [
       "\n",
       "        <table>\n",
       "            <thead>\n",
       "                <tr>\n",
       "                    <th>4</th>\n",
       "                    <th>Cosa si intende per Hardware Libero?</th>\n",
       "                </tr>\n",
       "            </thead>\n",
       "            <tbody>\n",
       "            <tr>\n",
       "                <td>0</td>\n",
       "                <td>L'hardware liberamente acquistabile</td>\n",
       "                <td></td>\n",
       "            </tr>\n",
       "            <tr>\n",
       "                <td>1</td>\n",
       "                <td>L'hardware basato su dispositivi elettronici e computer progettati con la stessa filosofia del software libero: tutte le informazioni riguardanti il progetto hardware, le specifiche, gll schemi necessari, etc. sono divulgati e liberamente accessibili</td>\n",
       "                <td>[CORRECT]</td>\n",
       "            </tr>\n",
       "            <tr>\n",
       "                <td>2</td>\n",
       "                <td>L'hardware prodotto nelle carceri</td>\n",
       "                <td></td>\n",
       "            </tr>\n",
       "            <tr>\n",
       "                <td>3</td>\n",
       "                <td>L'hardware gratuito</td>\n",
       "                <td></td>\n",
       "            </tr>\n",
       "            </tbody>\n",
       "        </table>\n",
       "        <caption>Argomento: LEG</caption>\n",
       "        <br /><br />\n",
       "        "
      ],
      "text/plain": [
       "<IPython.core.display.HTML object>"
      ]
     },
     "metadata": {},
     "output_type": "display_data"
    },
    {
     "data": {
      "text/html": [
       "\n",
       "        <table>\n",
       "            <thead>\n",
       "                <tr>\n",
       "                    <th>5</th>\n",
       "                    <th>Le Creative Commons sono…</th>\n",
       "                </tr>\n",
       "            </thead>\n",
       "            <tbody>\n",
       "            <tr>\n",
       "                <td>0</td>\n",
       "                <td>I beni a disposizione di tutti</td>\n",
       "                <td></td>\n",
       "            </tr>\n",
       "            <tr>\n",
       "                <td>1</td>\n",
       "                <td>Le opere di pubblico dominio</td>\n",
       "                <td></td>\n",
       "            </tr>\n",
       "            <tr>\n",
       "                <td>2</td>\n",
       "                <td>Licenze d'uso riservate agli artisti</td>\n",
       "                <td>[WRONG]</td>\n",
       "            </tr>\n",
       "            <tr>\n",
       "                <td>3</td>\n",
       "                <td>Licenze d'uso molto simili alle licenze libere</td>\n",
       "                <td>[CORRECT]</td>\n",
       "            </tr>\n",
       "            </tbody>\n",
       "        </table>\n",
       "        <caption>Argomento: LEG</caption>\n",
       "        <br /><br />\n",
       "        "
      ],
      "text/plain": [
       "<IPython.core.display.HTML object>"
      ]
     },
     "metadata": {},
     "output_type": "display_data"
    },
    {
     "data": {
      "text/html": [
       "\n",
       "        <table>\n",
       "            <thead>\n",
       "                <tr>\n",
       "                    <th>6</th>\n",
       "                    <th>Come si caratterizza un monopolio?</th>\n",
       "                </tr>\n",
       "            </thead>\n",
       "            <tbody>\n",
       "            <tr>\n",
       "                <td>0</td>\n",
       "                <td>Le imprese subiscono il prezzo imposto dal mercato</td>\n",
       "                <td></td>\n",
       "            </tr>\n",
       "            <tr>\n",
       "                <td>1</td>\n",
       "                <td>È una forma di mercato in cui la legge regolamenta l’offerta di prodotti e servizi</td>\n",
       "                <td></td>\n",
       "            </tr>\n",
       "            <tr>\n",
       "                <td>2</td>\n",
       "                <td>È una forma di mercato in cui la concorrenza è limitata dall’esistenza di un Cartello</td>\n",
       "                <td></td>\n",
       "            </tr>\n",
       "            <tr>\n",
       "                <td>3</td>\n",
       "                <td>È una forma di mercato in cui una sola impresa definisce l’intera offerta</td>\n",
       "                <td>[CORRECT]</td>\n",
       "            </tr>\n",
       "            </tbody>\n",
       "        </table>\n",
       "        <caption>Argomento: ECO</caption>\n",
       "        <br /><br />\n",
       "        "
      ],
      "text/plain": [
       "<IPython.core.display.HTML object>"
      ]
     },
     "metadata": {},
     "output_type": "display_data"
    },
    {
     "data": {
      "text/html": [
       "\n",
       "        <table>\n",
       "            <thead>\n",
       "                <tr>\n",
       "                    <th>7</th>\n",
       "                    <th>Selezionare l'opzione corretta. L'artigiano:</th>\n",
       "                </tr>\n",
       "            </thead>\n",
       "            <tbody>\n",
       "            <tr>\n",
       "                <td>0</td>\n",
       "                <td>minimizza i costi grazie ad un'attenta divisione dei lavori</td>\n",
       "                <td></td>\n",
       "            </tr>\n",
       "            <tr>\n",
       "                <td>1</td>\n",
       "                <td>produce manufatti unici grazie all'aiuto di altre aziende</td>\n",
       "                <td></td>\n",
       "            </tr>\n",
       "            <tr>\n",
       "                <td>2</td>\n",
       "                <td>produce manufatti unici sempre usando la propria materia prima</td>\n",
       "                <td></td>\n",
       "            </tr>\n",
       "            <tr>\n",
       "                <td>3</td>\n",
       "                <td>produce manufatti unici occupandosi personalmente di ogni fase della produzione</td>\n",
       "                <td>[CORRECT]</td>\n",
       "            </tr>\n",
       "            </tbody>\n",
       "        </table>\n",
       "        <caption>Argomento: ECO</caption>\n",
       "        <br /><br />\n",
       "        "
      ],
      "text/plain": [
       "<IPython.core.display.HTML object>"
      ]
     },
     "metadata": {},
     "output_type": "display_data"
    },
    {
     "data": {
      "text/html": [
       "\n",
       "        <table>\n",
       "            <thead>\n",
       "                <tr>\n",
       "                    <th>8</th>\n",
       "                    <th>La mancata adozione di una misura di sicurezza comporta:</th>\n",
       "                </tr>\n",
       "            </thead>\n",
       "            <tbody>\n",
       "            <tr>\n",
       "                <td>0</td>\n",
       "                <td>Una responsabilità amministrativa</td>\n",
       "                <td></td>\n",
       "            </tr>\n",
       "            <tr>\n",
       "                <td>1</td>\n",
       "                <td>Una responsabilità civile</td>\n",
       "                <td></td>\n",
       "            </tr>\n",
       "            <tr>\n",
       "                <td>2</td>\n",
       "                <td>Una responsabilità civile, solo se si prova di aver subito un danno effettivo</td>\n",
       "                <td>[CORRECT]</td>\n",
       "            </tr>\n",
       "            <tr>\n",
       "                <td>3</td>\n",
       "                <td>Una responsabilità</td>\n",
       "                <td></td>\n",
       "            </tr>\n",
       "            </tbody>\n",
       "        </table>\n",
       "        <caption>Argomento: LEG</caption>\n",
       "        <br /><br />\n",
       "        "
      ],
      "text/plain": [
       "<IPython.core.display.HTML object>"
      ]
     },
     "metadata": {},
     "output_type": "display_data"
    },
    {
     "data": {
      "text/html": [
       "\n",
       "        <table>\n",
       "            <thead>\n",
       "                <tr>\n",
       "                    <th>9</th>\n",
       "                    <th>Il \"digital divide…</th>\n",
       "                </tr>\n",
       "            </thead>\n",
       "            <tbody>\n",
       "            <tr>\n",
       "                <td>0</td>\n",
       "                <td>È il salto generazionale fra i nativi digitali e chi è nato prima degli anni 90</td>\n",
       "                <td></td>\n",
       "            </tr>\n",
       "            <tr>\n",
       "                <td>1</td>\n",
       "                <td>È la mancata standardizzazione dei sistemi operativi</td>\n",
       "                <td></td>\n",
       "            </tr>\n",
       "            <tr>\n",
       "                <td>2</td>\n",
       "                <td>È il divario fra chi ha accesso alle tecnologie dell'informazione e chi non l'ha</td>\n",
       "                <td>[CORRECT]</td>\n",
       "            </tr>\n",
       "            <tr>\n",
       "                <td>3</td>\n",
       "                <td>È il divario fra chi ha accesso a Internet e chi non l'ha</td>\n",
       "                <td></td>\n",
       "            </tr>\n",
       "            </tbody>\n",
       "        </table>\n",
       "        <caption>Argomento: SOC</caption>\n",
       "        <br /><br />\n",
       "        "
      ],
      "text/plain": [
       "<IPython.core.display.HTML object>"
      ]
     },
     "metadata": {},
     "output_type": "display_data"
    },
    {
     "data": {
      "text/html": [
       "\n",
       "        <table>\n",
       "            <thead>\n",
       "                <tr>\n",
       "                    <th>10</th>\n",
       "                    <th>La SPA è:</th>\n",
       "                </tr>\n",
       "            </thead>\n",
       "            <tbody>\n",
       "            <tr>\n",
       "                <td>0</td>\n",
       "                <td>è un'organizzazione con personalità giuridica, riconosciuta attraverso un esame nel quale si valuta, tra l'altro, la sufficienza della dotazione patrimoniale. I soci rispondono dei debiti sociali limitatamente al capitale investito.</td>\n",
       "                <td></td>\n",
       "            </tr>\n",
       "            <tr>\n",
       "                <td>1</td>\n",
       "                <td>è una società di capitali con capitale minimo di 10.000€. Per le obbligazioni sociali risponde solo la società con il suo patrimonio.</td>\n",
       "                <td></td>\n",
       "            </tr>\n",
       "            <tr>\n",
       "                <td>2</td>\n",
       "                <td>è una società a capitale variabile e con scopo mutualistico. Il capitale sociale, può essere costituito anche da azioni. Si avvalgono prevalentemente delle prestazioni lavorative dei soci e degli apporti di beni e servizi da parte degli stessi. </td>\n",
       "                <td></td>\n",
       "            </tr>\n",
       "            <tr>\n",
       "                <td>3</td>\n",
       "                <td>è una società di capitali con capitale minimo di 120.000€. La partecipazione sociale è rappresentata da azioni.</td>\n",
       "                <td>[CORRECT]</td>\n",
       "            </tr>\n",
       "            </tbody>\n",
       "        </table>\n",
       "        <caption>Argomento: ECO</caption>\n",
       "        <br /><br />\n",
       "        "
      ],
      "text/plain": [
       "<IPython.core.display.HTML object>"
      ]
     },
     "metadata": {},
     "output_type": "display_data"
    },
    {
     "data": {
      "text/html": [
       "\n",
       "        <table>\n",
       "            <thead>\n",
       "                <tr>\n",
       "                    <th>11</th>\n",
       "                    <th>Cosa dice il teorema di Bohm-Jacopini?</th>\n",
       "                </tr>\n",
       "            </thead>\n",
       "            <tbody>\n",
       "            <tr>\n",
       "                <td>0</td>\n",
       "                <td>ogni codice può essere scritto solo con costrutti if.</td>\n",
       "                <td></td>\n",
       "            </tr>\n",
       "            <tr>\n",
       "                <td>1</td>\n",
       "                <td>ogni funzione hardware può essere simulata con del software.</td>\n",
       "                <td></td>\n",
       "            </tr>\n",
       "            <tr>\n",
       "                <td>2</td>\n",
       "                <td>ogni funzione computabile, può essere implementata solo con 3 strutture: la sequenza, la scelta e il ciclo.</td>\n",
       "                <td>[CORRECT]</td>\n",
       "            </tr>\n",
       "            <tr>\n",
       "                <td>3</td>\n",
       "                <td>ogni funzione computabile può essere scritta con: cicli, if, interrupt e le operazioni di somma e differenza.</td>\n",
       "                <td></td>\n",
       "            </tr>\n",
       "            </tbody>\n",
       "        </table>\n",
       "        <caption>Argomento: ETH</caption>\n",
       "        <br /><br />\n",
       "        "
      ],
      "text/plain": [
       "<IPython.core.display.HTML object>"
      ]
     },
     "metadata": {},
     "output_type": "display_data"
    },
    {
     "data": {
      "text/html": [
       "\n",
       "        <table>\n",
       "            <thead>\n",
       "                <tr>\n",
       "                    <th>12</th>\n",
       "                    <th>I diritti alla cittadinanza digitale...</th>\n",
       "                </tr>\n",
       "            </thead>\n",
       "            <tbody>\n",
       "            <tr>\n",
       "                <td>0</td>\n",
       "                <td>Sono limitati solo ai cittadini di determinato rango sociale</td>\n",
       "                <td></td>\n",
       "            </tr>\n",
       "            <tr>\n",
       "                <td>1</td>\n",
       "                <td>Non hanno alcuna relazione con la protezione dei dati personali</td>\n",
       "                <td></td>\n",
       "            </tr>\n",
       "            <tr>\n",
       "                <td>2</td>\n",
       "                <td>sono articolati in tutela e opportunità</td>\n",
       "                <td>[CORRECT]</td>\n",
       "            </tr>\n",
       "            <tr>\n",
       "                <td>3</td>\n",
       "                <td>Si applicano solo ai minori di età</td>\n",
       "                <td></td>\n",
       "            </tr>\n",
       "            </tbody>\n",
       "        </table>\n",
       "        <caption>Argomento: SOC</caption>\n",
       "        <br /><br />\n",
       "        "
      ],
      "text/plain": [
       "<IPython.core.display.HTML object>"
      ]
     },
     "metadata": {},
     "output_type": "display_data"
    },
    {
     "data": {
      "text/html": [
       "\n",
       "        <table>\n",
       "            <thead>\n",
       "                <tr>\n",
       "                    <th>13</th>\n",
       "                    <th>Qual è il modello di mercato più diffuso?</th>\n",
       "                </tr>\n",
       "            </thead>\n",
       "            <tbody>\n",
       "            <tr>\n",
       "                <td>0</td>\n",
       "                <td>Concorrenza perfetta</td>\n",
       "                <td>[CORRECT]</td>\n",
       "            </tr>\n",
       "            <tr>\n",
       "                <td>1</td>\n",
       "                <td>nan</td>\n",
       "                <td></td>\n",
       "            </tr>\n",
       "            <tr>\n",
       "                <td>2</td>\n",
       "                <td>Oligopolio.</td>\n",
       "                <td></td>\n",
       "            </tr>\n",
       "            <tr>\n",
       "                <td>3</td>\n",
       "                <td>Monopolio.</td>\n",
       "                <td></td>\n",
       "            </tr>\n",
       "            </tbody>\n",
       "        </table>\n",
       "        <caption>Argomento: ECO</caption>\n",
       "        <br /><br />\n",
       "        "
      ],
      "text/plain": [
       "<IPython.core.display.HTML object>"
      ]
     },
     "metadata": {},
     "output_type": "display_data"
    },
    {
     "data": {
      "text/html": [
       "\n",
       "        <table>\n",
       "            <thead>\n",
       "                <tr>\n",
       "                    <th>14</th>\n",
       "                    <th>Chi detiene il diritto di imporre una licenza sul software?</th>\n",
       "                </tr>\n",
       "            </thead>\n",
       "            <tbody>\n",
       "            <tr>\n",
       "                <td>0</td>\n",
       "                <td>Gli utenti finali del software.</td>\n",
       "                <td></td>\n",
       "            </tr>\n",
       "            <tr>\n",
       "                <td>1</td>\n",
       "                <td> I produttori e sviluppatori del software.</td>\n",
       "                <td></td>\n",
       "            </tr>\n",
       "            <tr>\n",
       "                <td>2</td>\n",
       "                <td>L'organizzazione per la creazione di servizi Caveat.</td>\n",
       "                <td></td>\n",
       "            </tr>\n",
       "            <tr>\n",
       "                <td>3</td>\n",
       "                <td>L'autore del software e detentore del copyright</td>\n",
       "                <td>[CORRECT]</td>\n",
       "            </tr>\n",
       "            </tbody>\n",
       "        </table>\n",
       "        <caption>Argomento: LEG</caption>\n",
       "        <br /><br />\n",
       "        "
      ],
      "text/plain": [
       "<IPython.core.display.HTML object>"
      ]
     },
     "metadata": {},
     "output_type": "display_data"
    },
    {
     "data": {
      "text/html": [
       "\n",
       "        <table>\n",
       "            <thead>\n",
       "                <tr>\n",
       "                    <th>15</th>\n",
       "                    <th>Quali sono le due categorie di scelte di destinazione delle risorse nel sistema economico?</th>\n",
       "                </tr>\n",
       "            </thead>\n",
       "            <tbody>\n",
       "            <tr>\n",
       "                <td>0</td>\n",
       "                <td>nan</td>\n",
       "                <td></td>\n",
       "            </tr>\n",
       "            <tr>\n",
       "                <td>1</td>\n",
       "                <td>Scelte di consumo e scelte di produzione.</td>\n",
       "                <td>[CORRECT]</td>\n",
       "            </tr>\n",
       "            <tr>\n",
       "                <td>2</td>\n",
       "                <td>Scelte di consumo e scelte di risparmio.</td>\n",
       "                <td></td>\n",
       "            </tr>\n",
       "            <tr>\n",
       "                <td>3</td>\n",
       "                <td>Scelte di produzione e scelte di innovazione.</td>\n",
       "                <td></td>\n",
       "            </tr>\n",
       "            </tbody>\n",
       "        </table>\n",
       "        <caption>Argomento: ECO</caption>\n",
       "        <br /><br />\n",
       "        "
      ],
      "text/plain": [
       "<IPython.core.display.HTML object>"
      ]
     },
     "metadata": {},
     "output_type": "display_data"
    }
   ],
   "source": [
    "# Ciclo attraverso i risultati delle domande e le risposte\n",
    "for i in range(QUESTIONS_NUMBER):\n",
    "    # Mostra l'output HTML rappresentando la domanda e la risposta\n",
    "    display(\n",
    "        HTML(\n",
    "            str(questionsData[i].html_repr(answers[i]))\n",
    "        )\n",
    "    )"
   ]
  },
  {
   "cell_type": "code",
   "execution_count": null,
   "metadata": {},
   "outputs": [],
   "source": []
  }
 ],
 "metadata": {
  "kernelspec": {
   "display_name": "Python 3 (ipykernel)",
   "language": "python",
   "name": "python3"
  },
  "language_info": {
   "codemirror_mode": {
    "name": "ipython",
    "version": 3
   },
   "file_extension": ".py",
   "mimetype": "text/x-python",
   "name": "python",
   "nbconvert_exporter": "python",
   "pygments_lexer": "ipython3",
   "version": "3.10.12"
  }
 },
 "nbformat": 4,
 "nbformat_minor": 4
}
